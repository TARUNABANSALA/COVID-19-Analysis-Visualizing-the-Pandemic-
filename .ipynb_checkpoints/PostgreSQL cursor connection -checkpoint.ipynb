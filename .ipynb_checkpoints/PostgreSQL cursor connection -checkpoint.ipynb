{
 "cells": [
  {
   "cell_type": "code",
   "execution_count": 6,
   "id": "ab84d92a",
   "metadata": {},
   "outputs": [
    {
     "name": "stdout",
     "output_type": "stream",
     "text": [
      "Requirement already satisfied: psycopg2 in c:\\users\\panka\\anaconda3\\lib\\site-packages (2.9.6)\n"
     ]
    }
   ],
   "source": [
    "!pip install psycopg2"
   ]
  },
  {
   "cell_type": "code",
   "execution_count": 14,
   "id": "b15ee02b",
   "metadata": {},
   "outputs": [],
   "source": [
    "import csv\n",
    "import psycopg2\n",
    "from psycopg2 import sql\n",
    "from psycopg2.extras import execute_values\n",
    "connection = psycopg2.connect(\n",
    "    host=\"localhost\",\n",
    "    port=\"5432\",\n",
    "    database=\"Project3\",\n",
    "    user=\"postgres\",\n",
    "    password=\"password\"\n",
    ")"
   ]
  },
  {
   "cell_type": "code",
   "execution_count": 15,
   "id": "e77ca5e2",
   "metadata": {},
   "outputs": [],
   "source": [
    "cursor = connection.cursor()"
   ]
  },
  {
   "cell_type": "code",
   "execution_count": 16,
   "id": "ccdfff4c",
   "metadata": {
    "scrolled": true
   },
   "outputs": [
    {
     "name": "stdout",
     "output_type": "stream",
     "text": [
      "Data loaded into Covid_19 successfully!\n"
     ]
    }
   ],
   "source": [
    "csv_file = r'C:\\Users\\panka\\OneDrive\\Desktop\\Class Folder\\Github\\COVID-19_project_work\\Covid19_data_postgreSQL.csv'\n",
    "table = 'Covid_19'\n",
    "try:\n",
    "    with open(csv_file, 'r') as f:\n",
    "        reader = csv.reader(f)\n",
    "        columns = next(reader)\n",
    "        insert_query = sql.SQL('INSERT INTO {} VALUES %s').format(\n",
    "            sql.Identifier(table)\n",
    "        )\n",
    "        cursor = connection.cursor()\n",
    "        execute_values(cursor, insert_query, [row for row in reader])\n",
    "        connection.commit()\n",
    "        print(f\"Data loaded into {table} successfully!\")\n",
    "except Exception as e:\n",
    "    print(\"Error loading data:\", e)\n",
    "    connection.rollback()\n",
    "finally:\n",
    "    connection.close()"
   ]
  },
  {
   "cell_type": "code",
   "execution_count": 17,
   "id": "2faea8b9",
   "metadata": {},
   "outputs": [
    {
     "name": "stdout",
     "output_type": "stream",
     "text": [
      "Requirement already satisfied: flask in c:\\users\\panka\\anaconda3\\lib\\site-packages (1.1.2)\n",
      "Requirement already satisfied: psycopg2 in c:\\users\\panka\\anaconda3\\lib\\site-packages (2.9.6)\n",
      "Requirement already satisfied: Werkzeug>=0.15 in c:\\users\\panka\\anaconda3\\lib\\site-packages (from flask) (2.0.3)\n",
      "Requirement already satisfied: Jinja2>=2.10.1 in c:\\users\\panka\\anaconda3\\lib\\site-packages (from flask) (2.11.3)\n",
      "Requirement already satisfied: itsdangerous>=0.24 in c:\\users\\panka\\anaconda3\\lib\\site-packages (from flask) (2.0.1)\n",
      "Requirement already satisfied: click>=5.1 in c:\\users\\panka\\anaconda3\\lib\\site-packages (from flask) (8.0.4)\n",
      "Requirement already satisfied: colorama in c:\\users\\panka\\anaconda3\\lib\\site-packages (from click>=5.1->flask) (0.4.6)\n",
      "Requirement already satisfied: MarkupSafe>=0.23 in c:\\users\\panka\\anaconda3\\lib\\site-packages (from Jinja2>=2.10.1->flask) (2.0.1)\n",
      "Note: you may need to restart the kernel to use updated packages.\n"
     ]
    }
   ],
   "source": [
    "pip install flask psycopg2"
   ]
  },
  {
   "cell_type": "code",
   "execution_count": 18,
   "id": "53900c40",
   "metadata": {},
   "outputs": [],
   "source": [
    "from flask import Flask, jsonify, request\n",
    "import psycopg2"
   ]
  },
  {
   "cell_type": "code",
   "execution_count": null,
   "id": "4afc834d",
   "metadata": {},
   "outputs": [],
   "source": [
    "app = Flask(__name__)"
   ]
  },
  {
   "cell_type": "code",
   "execution_count": null,
   "id": "46363e96",
   "metadata": {},
   "outputs": [],
   "source": [
    "params = {\n",
    "    'host': 'localhost',\n",
    "    'port': '5432',\n",
    "    'database': 'Project3',\n",
    "    'user': 'postgres',\n",
    "    'password': 'H0wdyH0wdy@'\n",
    "}"
   ]
  },
  {
   "cell_type": "code",
   "execution_count": null,
   "id": "9725122b",
   "metadata": {},
   "outputs": [],
   "source": [
    "def run_query(query, values=None):\n",
    "    conn = psycopg2.connect(**params)\n",
    "    cur = conn.cursor()\n",
    "    if values:\n",
    "        cur.execute(query, values)\n",
    "    else:\n",
    "        cur.execute(query)\n",
    "    conn.commit()\n",
    "    result = cur.fetchall()\n",
    "    cur.close()\n",
    "    conn.close()\n",
    "    return result"
   ]
  },
  {
   "cell_type": "code",
   "execution_count": null,
   "id": "6c2f76bb",
   "metadata": {},
   "outputs": [],
   "source": [
    "@app.route('/api/endpoint', methods=['GET'])\n",
    "def your_endpoint():\n",
    "    # Handle database queries here\n",
    "    result = run_query('SELECT * FROM your_table')\n",
    "    # Process the result and return a JSON response\n",
    "    response = {'data': result}\n",
    "    return jsonify(response)"
   ]
  },
  {
   "cell_type": "code",
   "execution_count": null,
   "id": "44128abd",
   "metadata": {},
   "outputs": [],
   "source": [
    "if __name__ == '__main__':\n",
    "    app.run()"
   ]
  }
 ],
 "metadata": {
  "kernelspec": {
   "display_name": "Python 3 (ipykernel)",
   "language": "python",
   "name": "python3"
  },
  "language_info": {
   "codemirror_mode": {
    "name": "ipython",
    "version": 3
   },
   "file_extension": ".py",
   "mimetype": "text/x-python",
   "name": "python",
   "nbconvert_exporter": "python",
   "pygments_lexer": "ipython3",
   "version": "3.9.16"
  }
 },
 "nbformat": 4,
 "nbformat_minor": 5
}
