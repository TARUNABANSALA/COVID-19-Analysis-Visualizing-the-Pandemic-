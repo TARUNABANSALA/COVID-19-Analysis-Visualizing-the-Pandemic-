{
 "cells": [
  {
   "cell_type": "code",
   "execution_count": null,
   "id": "09ea8ad8",
   "metadata": {},
   "outputs": [],
   "source": [
    "!pip install flask pymongo\n",
    "!pip install --upgrade package_name"
   ]
  },
  {
   "cell_type": "code",
   "execution_count": null,
   "id": "e3995423",
   "metadata": {},
   "outputs": [],
   "source": [
    "from flask import Flask, render_template\n",
    "from pymongo import MongoClient"
   ]
  },
  {
   "cell_type": "code",
   "execution_count": null,
   "id": "f46fca90",
   "metadata": {},
   "outputs": [],
   "source": [
    "app = Flask(__name__)\n",
    "# Configure MongoDB connection\n",
    "client = MongoClient('mongodb://localhost:27017')\n",
    "db = client['Covid19_project3']\n",
    "collection = db['Vaccinemap_data']\n",
    "print(collection)"
   ]
  },
  {
   "cell_type": "code",
   "execution_count": null,
   "id": "872f1055",
   "metadata": {},
   "outputs": [],
   "source": [
    "@app.route('/')\n",
    "def display_collection_content():\n",
    "    documents = collection.find()\n",
    "    return render_template('index.html', documents=documents)"
   ]
  },
  {
   "cell_type": "code",
   "execution_count": null,
   "id": "83894470",
   "metadata": {},
   "outputs": [],
   "source": [
    "app.run(port=8080)"
   ]
  }
 ],
 "metadata": {
  "kernelspec": {
   "display_name": "Python 3 (ipykernel)",
   "language": "python",
   "name": "python3"
  },
  "language_info": {
   "codemirror_mode": {
    "name": "ipython",
    "version": 3
   },
   "file_extension": ".py",
   "mimetype": "text/x-python",
   "name": "python",
   "nbconvert_exporter": "python",
   "pygments_lexer": "ipython3",
   "version": "3.9.16"
  }
 },
 "nbformat": 4,
 "nbformat_minor": 5
}
